{
 "cells": [
  {
   "cell_type": "code",
   "execution_count": 1,
   "id": "44205900",
   "metadata": {},
   "outputs": [],
   "source": [
    "import requests\n",
    "import numpy as np\n",
    "import pandas as pd\n",
    "from bs4 import BeautifulSoup"
   ]
  },
  {
   "cell_type": "code",
   "execution_count": 2,
   "id": "bc6b71b7",
   "metadata": {},
   "outputs": [],
   "source": [
    "url = \"https://www.billboard.com/charts/hot-100/\""
   ]
  },
  {
   "cell_type": "code",
   "execution_count": 3,
   "id": "c5061d1b",
   "metadata": {},
   "outputs": [],
   "source": [
    "response = requests.get(url)"
   ]
  },
  {
   "cell_type": "code",
   "execution_count": 4,
   "id": "df421acb",
   "metadata": {},
   "outputs": [
    {
     "data": {
      "text/plain": [
       "200"
      ]
     },
     "execution_count": 4,
     "metadata": {},
     "output_type": "execute_result"
    }
   ],
   "source": [
    "response.status_code #checking for errors"
   ]
  },
  {
   "cell_type": "code",
   "execution_count": 5,
   "id": "460446ba",
   "metadata": {},
   "outputs": [],
   "source": [
    "soup = BeautifulSoup(response.content, 'html.parser')"
   ]
  },
  {
   "cell_type": "code",
   "execution_count": 6,
   "id": "5cc880f2",
   "metadata": {},
   "outputs": [],
   "source": [
    "songs = [elem.get_text(strip=True) for elem in soup.select(\".c-title.a-no-trucate.a-font-primary-bold-s\")]"
   ]
  },
  {
   "cell_type": "code",
   "execution_count": 7,
   "id": "8d3315d5",
   "metadata": {},
   "outputs": [
    {
     "data": {
      "text/plain": [
       "['Flowers',\n",
       " 'Kill Bill',\n",
       " 'Last Night',\n",
       " 'Unholy',\n",
       " \"Creepin'\",\n",
       " 'Cuff It',\n",
       " 'Anti-Hero',\n",
       " 'Die For You',\n",
       " \"I'm Good (Blue)\",\n",
       " 'As It Was',\n",
       " 'Rich Flex',\n",
       " 'Just Wanna Rock',\n",
       " 'Thought You Should Know',\n",
       " \"Boy's A Liar, Pt. 2\",\n",
       " 'Made You Look',\n",
       " 'Under The Influence',\n",
       " 'Golden Hour',\n",
       " 'You Proof',\n",
       " 'Rock And A Hard Place',\n",
       " 'Something In The Orange',\n",
       " 'Thank God',\n",
       " 'Bad Habit',\n",
       " 'Going, Going, Gone',\n",
       " 'Escapism',\n",
       " 'Superhero (Heroes & Villains)',\n",
       " 'Lavender Haze',\n",
       " 'Calm Down',\n",
       " 'Players',\n",
       " 'Shirt',\n",
       " 'Sure Thing',\n",
       " 'The Kind Of Love We Make',\n",
       " 'Heart Like A Truck',\n",
       " 'Bzrp Music Sessions, Vol. 53',\n",
       " 'Snooze',\n",
       " 'Until I Found You',\n",
       " 'Wait For U',\n",
       " 'I Like You (A Happier Song)',\n",
       " 'I Wrote The Book',\n",
       " 'Bebe Dame',\n",
       " 'Tomorrow 2',\n",
       " 'About Damn Time',\n",
       " 'Wait In The Truck',\n",
       " 'She Had Me At Heads Carolina',\n",
       " 'Nobody Gets Me',\n",
       " 'What My World Spins Around',\n",
       " 'Unstoppable',\n",
       " 'One Thing At A Time',\n",
       " 'Whiskey On You',\n",
       " 'Dawns',\n",
       " 'Love Again',\n",
       " 'Everything I Love',\n",
       " 'Lift Me Up',\n",
       " 'Que Vuelvas',\n",
       " 'Low',\n",
       " 'Tennessee Orange',\n",
       " 'X Si Volvemos',\n",
       " 'Bloody Mary',\n",
       " 'Handle On You',\n",
       " \"What He Didn't Do\",\n",
       " 'Freestyle',\n",
       " 'Wild As Her',\n",
       " 'Spin Bout U',\n",
       " \"You Didn't\",\n",
       " \"Growin' Up And Gettin' Old\",\n",
       " 'Nonsense',\n",
       " 'Here With Me',\n",
       " 'The Color Violet',\n",
       " 'AMG',\n",
       " '10:35',\n",
       " 'La Bachata',\n",
       " 'Forget Me',\n",
       " 'Shut Up My Moms Calling',\n",
       " 'Blind',\n",
       " 'OMG',\n",
       " 'No Se Va',\n",
       " 'Love You Better',\n",
       " 'La Jumpa',\n",
       " 'PRC',\n",
       " \"That's What Tequila Does\",\n",
       " 'Love Language',\n",
       " 'Tennessee Fan',\n",
       " 'Ditto',\n",
       " 'Watch The World Burn',\n",
       " 'Human',\n",
       " 'In Ha Mood',\n",
       " 'Back End',\n",
       " 'Do It Again',\n",
       " 'Hey Mor',\n",
       " 'Too Many Nights',\n",
       " 'Ghost In The Machine',\n",
       " 'Fin de Semana',\n",
       " 'Snap',\n",
       " 'California Breeze',\n",
       " \"I'm Not Here To Make Friends\",\n",
       " 'Gato de Noche',\n",
       " 'Yandel 150',\n",
       " 'Heart To Heart',\n",
       " 'Next Thing You Know',\n",
       " 'Never Gonna Not Dance Again',\n",
       " 'Open Arms']"
      ]
     },
     "execution_count": 7,
     "metadata": {},
     "output_type": "execute_result"
    }
   ],
   "source": [
    "songs"
   ]
  },
  {
   "cell_type": "code",
   "execution_count": 8,
   "id": "8519e7c8",
   "metadata": {},
   "outputs": [],
   "source": [
    "artists = [elem.get_text(strip=True) for elem in soup.select(\".c-label.a-no-trucate.a-font-primary-s\")]"
   ]
  },
  {
   "cell_type": "code",
   "execution_count": 9,
   "id": "0cbced11",
   "metadata": {},
   "outputs": [
    {
     "data": {
      "text/plain": [
       "['Miley Cyrus',\n",
       " 'SZA',\n",
       " 'Morgan Wallen',\n",
       " 'Sam Smith & Kim Petras',\n",
       " 'Metro Boomin, The Weeknd & 21 Savage',\n",
       " 'Beyonce',\n",
       " 'Taylor Swift',\n",
       " 'The Weeknd',\n",
       " 'David Guetta & Bebe Rexha',\n",
       " 'Harry Styles',\n",
       " 'Drake & 21 Savage',\n",
       " 'Lil Uzi Vert',\n",
       " 'Morgan Wallen',\n",
       " 'PinkPantheress & Ice Spice',\n",
       " 'Meghan Trainor',\n",
       " 'Chris Brown',\n",
       " 'JVKE',\n",
       " 'Morgan Wallen',\n",
       " 'Bailey Zimmerman',\n",
       " 'Zach Bryan',\n",
       " 'Kane Brown With Katelyn Brown',\n",
       " 'Steve Lacy',\n",
       " 'Luke Combs',\n",
       " 'RAYE Featuring 070 Shake',\n",
       " 'Metro Boomin, Future & Chris Brown',\n",
       " 'Taylor Swift',\n",
       " 'Rema & Selena Gomez',\n",
       " 'Coi Leray',\n",
       " 'SZA',\n",
       " 'Miguel',\n",
       " 'Luke Combs',\n",
       " 'Lainey Wilson',\n",
       " 'Bizarrap & Shakira',\n",
       " 'SZA',\n",
       " 'Stephen Sanchez',\n",
       " 'Future Featuring Drake & Tems',\n",
       " 'Post Malone Featuring Doja Cat',\n",
       " 'Morgan Wallen',\n",
       " 'Fuerza Regida X Grupo Frontera',\n",
       " 'GloRilla & Cardi B',\n",
       " 'Lizzo',\n",
       " 'HARDY Featuring Lainey Wilson',\n",
       " 'Cole Swindell',\n",
       " 'SZA',\n",
       " 'Jordan Davis',\n",
       " 'Sia',\n",
       " 'Morgan Wallen',\n",
       " 'Nate Smith',\n",
       " 'Zach Bryan Featuring Maggie Rogers',\n",
       " 'The Kid LAROI',\n",
       " 'Morgan Wallen',\n",
       " 'Rihanna',\n",
       " 'Carin Leon X Grupo Frontera',\n",
       " 'SZA',\n",
       " 'Megan Moroney',\n",
       " 'Karol G x Romeo Santos',\n",
       " 'Lady Gaga',\n",
       " 'Parker McCollum',\n",
       " 'Carly Pearce',\n",
       " 'Lil Baby',\n",
       " 'Corey Kent',\n",
       " 'Drake & 21 Savage',\n",
       " 'Brett Young',\n",
       " 'Luke Combs',\n",
       " 'Sabrina Carpenter',\n",
       " 'd4vd',\n",
       " 'Tory Lanez',\n",
       " 'Gabito Ballesteros, Peso Pluma & Natanael Cano',\n",
       " 'Tiesto Featuring Tate McRae',\n",
       " 'Manuel Turizo',\n",
       " 'Lewis Capaldi',\n",
       " 'Hotel Ugly',\n",
       " 'SZA',\n",
       " 'NewJeans',\n",
       " 'Grupo Frontera',\n",
       " 'Future',\n",
       " 'Arcangel & Bad Bunny',\n",
       " 'Peso Pluma X Natanael Cano',\n",
       " 'Jason Aldean',\n",
       " 'SZA',\n",
       " 'Morgan Wallen',\n",
       " 'NewJeans',\n",
       " 'Falling In Reverse',\n",
       " 'Cody Johnson',\n",
       " 'Ice Spice',\n",
       " 'Finesse2Tymes',\n",
       " 'NLE Choppa & 2Rare',\n",
       " 'Ozuna Featuring Feid',\n",
       " 'Metro Boomin Featuring Don Toliver & Future',\n",
       " 'SZA Featuring Phoebe Bridgers',\n",
       " 'Junior H X Oscar Maydon',\n",
       " 'Rosa Linn',\n",
       " 'Lil Baby',\n",
       " 'Sam Smith',\n",
       " 'Nengo Flow & Bad Bunny',\n",
       " 'Yandel & Feid',\n",
       " 'Mac DeMarco',\n",
       " 'Jordan Davis',\n",
       " 'P!nk',\n",
       " 'SZA Featuring Travis Scott']"
      ]
     },
     "execution_count": 9,
     "metadata": {},
     "output_type": "execute_result"
    }
   ],
   "source": [
    "artists"
   ]
  },
  {
   "cell_type": "code",
   "execution_count": 10,
   "id": "59d1ec65",
   "metadata": {},
   "outputs": [],
   "source": [
    "hot_100 = pd.DataFrame({\"Song\": songs, \"Artist\": artists})"
   ]
  },
  {
   "cell_type": "code",
   "execution_count": 11,
   "id": "4694e883",
   "metadata": {},
   "outputs": [
    {
     "data": {
      "text/html": [
       "<div>\n",
       "<style scoped>\n",
       "    .dataframe tbody tr th:only-of-type {\n",
       "        vertical-align: middle;\n",
       "    }\n",
       "\n",
       "    .dataframe tbody tr th {\n",
       "        vertical-align: top;\n",
       "    }\n",
       "\n",
       "    .dataframe thead th {\n",
       "        text-align: right;\n",
       "    }\n",
       "</style>\n",
       "<table border=\"1\" class=\"dataframe\">\n",
       "  <thead>\n",
       "    <tr style=\"text-align: right;\">\n",
       "      <th></th>\n",
       "      <th>Song</th>\n",
       "      <th>Artist</th>\n",
       "    </tr>\n",
       "  </thead>\n",
       "  <tbody>\n",
       "    <tr>\n",
       "      <th>0</th>\n",
       "      <td>Flowers</td>\n",
       "      <td>Miley Cyrus</td>\n",
       "    </tr>\n",
       "    <tr>\n",
       "      <th>1</th>\n",
       "      <td>Kill Bill</td>\n",
       "      <td>SZA</td>\n",
       "    </tr>\n",
       "    <tr>\n",
       "      <th>2</th>\n",
       "      <td>Last Night</td>\n",
       "      <td>Morgan Wallen</td>\n",
       "    </tr>\n",
       "    <tr>\n",
       "      <th>3</th>\n",
       "      <td>Unholy</td>\n",
       "      <td>Sam Smith &amp; Kim Petras</td>\n",
       "    </tr>\n",
       "    <tr>\n",
       "      <th>4</th>\n",
       "      <td>Creepin'</td>\n",
       "      <td>Metro Boomin, The Weeknd &amp; 21 Savage</td>\n",
       "    </tr>\n",
       "    <tr>\n",
       "      <th>...</th>\n",
       "      <td>...</td>\n",
       "      <td>...</td>\n",
       "    </tr>\n",
       "    <tr>\n",
       "      <th>95</th>\n",
       "      <td>Yandel 150</td>\n",
       "      <td>Yandel &amp; Feid</td>\n",
       "    </tr>\n",
       "    <tr>\n",
       "      <th>96</th>\n",
       "      <td>Heart To Heart</td>\n",
       "      <td>Mac DeMarco</td>\n",
       "    </tr>\n",
       "    <tr>\n",
       "      <th>97</th>\n",
       "      <td>Next Thing You Know</td>\n",
       "      <td>Jordan Davis</td>\n",
       "    </tr>\n",
       "    <tr>\n",
       "      <th>98</th>\n",
       "      <td>Never Gonna Not Dance Again</td>\n",
       "      <td>P!nk</td>\n",
       "    </tr>\n",
       "    <tr>\n",
       "      <th>99</th>\n",
       "      <td>Open Arms</td>\n",
       "      <td>SZA Featuring Travis Scott</td>\n",
       "    </tr>\n",
       "  </tbody>\n",
       "</table>\n",
       "<p>100 rows × 2 columns</p>\n",
       "</div>"
      ],
      "text/plain": [
       "                           Song                                Artist\n",
       "0                       Flowers                           Miley Cyrus\n",
       "1                     Kill Bill                                   SZA\n",
       "2                    Last Night                         Morgan Wallen\n",
       "3                        Unholy                Sam Smith & Kim Petras\n",
       "4                      Creepin'  Metro Boomin, The Weeknd & 21 Savage\n",
       "..                          ...                                   ...\n",
       "95                   Yandel 150                         Yandel & Feid\n",
       "96               Heart To Heart                           Mac DeMarco\n",
       "97          Next Thing You Know                          Jordan Davis\n",
       "98  Never Gonna Not Dance Again                                  P!nk\n",
       "99                    Open Arms            SZA Featuring Travis Scott\n",
       "\n",
       "[100 rows x 2 columns]"
      ]
     },
     "execution_count": 11,
     "metadata": {},
     "output_type": "execute_result"
    }
   ],
   "source": [
    "hot_100"
   ]
  },
  {
   "cell_type": "code",
   "execution_count": 12,
   "id": "c89cf079",
   "metadata": {},
   "outputs": [],
   "source": [
    "hot_100.to_csv(\"\\hot_100.csv\")"
   ]
  },
  {
   "cell_type": "code",
   "execution_count": null,
   "id": "f91649bc",
   "metadata": {},
   "outputs": [],
   "source": [
    " "
   ]
  }
 ],
 "metadata": {
  "kernelspec": {
   "display_name": "Python 3 (ipykernel)",
   "language": "python",
   "name": "python3"
  },
  "language_info": {
   "codemirror_mode": {
    "name": "ipython",
    "version": 3
   },
   "file_extension": ".py",
   "mimetype": "text/x-python",
   "name": "python",
   "nbconvert_exporter": "python",
   "pygments_lexer": "ipython3",
   "version": "3.9.13"
  }
 },
 "nbformat": 4,
 "nbformat_minor": 5
}
