{
 "cells": [
  {
   "cell_type": "code",
   "execution_count": 1,
   "id": "cb9862d7",
   "metadata": {},
   "outputs": [],
   "source": [
    "import numpy as np\n",
    "import pandas as pd\n",
    "from fuzzywuzzy import fuzz\n",
    "from fuzzywuzzy import process"
   ]
  },
  {
   "cell_type": "code",
   "execution_count": 2,
   "id": "0bd4a189",
   "metadata": {},
   "outputs": [],
   "source": [
    "hot_100 = pd.read_csv(\"hot_100.csv\")"
   ]
  },
  {
   "cell_type": "code",
   "execution_count": 3,
   "id": "cb3c5460",
   "metadata": {},
   "outputs": [
    {
     "name": "stdout",
     "output_type": "stream",
     "text": [
      "                           Song                                Artist\n",
      "0                       Flowers                           Miley Cyrus\n",
      "1                     Kill Bill                                   SZA\n",
      "2                    Last Night                         Morgan Wallen\n",
      "3                        Unholy                Sam Smith & Kim Petras\n",
      "4                      Creepin'  Metro Boomin, The Weeknd & 21 Savage\n",
      "..                          ...                                   ...\n",
      "95                   Yandel 150                         Yandel & Feid\n",
      "96               Heart To Heart                           Mac DeMarco\n",
      "97          Next Thing You Know                          Jordan Davis\n",
      "98  Never Gonna Not Dance Again                                  P!nk\n",
      "99                    Open Arms            SZA Featuring Travis Scott\n",
      "\n",
      "[100 rows x 2 columns]\n"
     ]
    }
   ],
   "source": [
    "hot_100.drop(columns = ['Unnamed: 0'], inplace = True)\n",
    "print(hot_100)"
   ]
  },
  {
   "cell_type": "code",
   "execution_count": 4,
   "id": "dadcc8d7",
   "metadata": {},
   "outputs": [],
   "source": [
    "song_random = hot_100.sample()"
   ]
  },
  {
   "cell_type": "code",
   "execution_count": 5,
   "id": "24943a4f",
   "metadata": {},
   "outputs": [],
   "source": [
    "songs = []\n",
    "for i in hot_100['Song']:\n",
    "    songs.append(i)\n",
    "    \n",
    "artists = []\n",
    "for i in hot_100['Artist']:\n",
    "    artists.append(i)"
   ]
  },
  {
   "cell_type": "code",
   "execution_count": 6,
   "id": "419a195f",
   "metadata": {},
   "outputs": [],
   "source": [
    "def treating_typos_song():\n",
    "    song_input = input(\"Please, write the title of the song.\")\n",
    "    if process.extractOne(song_input, songs)[1] > 70:\n",
    "        song_ = process.extractOne(song_input, songs)[0]\n",
    "    else:\n",
    "        song_ = song_input\n",
    "    return song_"
   ]
  },
  {
   "cell_type": "code",
   "execution_count": 7,
   "id": "264d91c3",
   "metadata": {},
   "outputs": [],
   "source": [
    "def treating_typos_artist():\n",
    "    artist_input = input(\"Please, write the name of the artist.\")\n",
    "    if process.extractOne(artist_input, artists)[1] > 70:\n",
    "        artist_ = process.extractOne(artist_input, artists)[0]\n",
    "    else:\n",
    "        artist_ = artist_input\n",
    "    return artist_"
   ]
  },
  {
   "cell_type": "code",
   "execution_count": 17,
   "id": "31349ab4",
   "metadata": {},
   "outputs": [],
   "source": [
    "def filter_song_out(song, artist):\n",
    "    idx = hot_100.index[(hot_100['Song'] == song) & (hot_100['Artist'] == artist)].tolist()[0]\n",
    "    hot_100.drop(idx)\n",
    "\n",
    "\n",
    "def hot_songs():\n",
    "    song_ = treating_typos_song()\n",
    "    artist_ = treating_typos_artist()\n",
    "    filter_song_out(song_, artist_)\n",
    "    \n",
    "    if song_ in songs and artist_ in artists:\n",
    "        x = list(song_random[\"Song\"])[0]\n",
    "        y = list(song_random[\"Artist\"])[0]\n",
    "        print(\"We recommend you the song \" + str(x) + \" by the artist \" + str(y) + \".\")\n",
    "    else:\n",
    "        print(\"This song is not on the hot list.\")"
   ]
  },
  {
   "cell_type": "code",
   "execution_count": 18,
   "id": "bca9dedc",
   "metadata": {},
   "outputs": [
    {
     "name": "stdout",
     "output_type": "stream",
     "text": [
      "Please, write the title of the song.hear to heart\n",
      "Please, write the name of the artist.mc demarco\n",
      "We recommend you the song Human by the artist Cody Johnson.\n"
     ]
    }
   ],
   "source": [
    "hot_songs()"
   ]
  },
  {
   "cell_type": "code",
   "execution_count": null,
   "id": "ecc984cb",
   "metadata": {},
   "outputs": [],
   "source": []
  }
 ],
 "metadata": {
  "kernelspec": {
   "display_name": "Python 3 (ipykernel)",
   "language": "python",
   "name": "python3"
  },
  "language_info": {
   "codemirror_mode": {
    "name": "ipython",
    "version": 3
   },
   "file_extension": ".py",
   "mimetype": "text/x-python",
   "name": "python",
   "nbconvert_exporter": "python",
   "pygments_lexer": "ipython3",
   "version": "3.9.13"
  }
 },
 "nbformat": 4,
 "nbformat_minor": 5
}
