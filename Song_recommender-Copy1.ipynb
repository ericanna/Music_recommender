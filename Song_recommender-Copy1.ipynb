{
 "cells": [
  {
   "cell_type": "code",
   "execution_count": 24,
   "id": "8bc5b694",
   "metadata": {},
   "outputs": [],
   "source": [
    "import numpy as np\n",
    "import pandas as pd\n",
    "from fuzzywuzzy import fuzz\n",
    "from fuzzywuzzy import process\n",
    "from sklearn.preprocessing import StandardScaler\n",
    "from sklearn.cluster import KMeans\n",
    "import config\n",
    "import spotipy\n",
    "import json\n",
    "from spotipy.oauth2 import SpotifyClientCredentials\n",
    "from IPython.display import IFrame, display\n",
    "import random\n",
    "\n",
    "hot_100 = pd.read_csv(\"hot_100.csv\")\n",
    "\n",
    "hot_100.drop(columns = ['Unnamed: 0'], inplace = True)\n",
    "\n",
    "song_random = hot_100.sample()\n",
    "\n",
    "songs = []\n",
    "for i in hot_100['Song']:\n",
    "    songs.append(i)\n",
    "    \n",
    "artists = []\n",
    "for i in hot_100['Artist']:\n",
    "    artists.append(i)\n",
    "\n",
    "def treating_typos_song():\n",
    "    song_input = input(\"Please, write the title of the song.\")\n",
    "    if process.extractOne(song_input, songs)[1] > 90:\n",
    "        song_ = process.extractOne(song_input, songs)[0]\n",
    "    else:\n",
    "        song_ = song_input\n",
    "    return song_\n",
    "\n",
    "def treating_typos_artist():\n",
    "    artist_input = input(\"Please, write the name of the artist.\")\n",
    "    if process.extractOne(artist_input, artists)[1] > 90:\n",
    "        artist_ = process.extractOne(artist_input, artists)[0]\n",
    "    else:\n",
    "        artist_ = artist_input\n",
    "    return artist_\n",
    "\n",
    "def filter_song_out(song, artist):\n",
    "    idx_list = hot_100.index[(hot_100['Song'] == song) & (hot_100['Artist'] == artist)].tolist()\n",
    "    if len(idx_list) > 0:\n",
    "        hot_100.drop(idx_list[0])\n",
    "\n",
    "spotify_songs = pd.read_csv(\"songs2.csv\")\n",
    "\n",
    "X = spotify_songs.drop(columns = spotify_songs[[\"id\", \"Unnamed: 0.1\", \"Unnamed: 0\"]]) #removing the if column so it doesn't get standardized\n",
    "\n",
    "scaler = StandardScaler()\n",
    "scaler.fit(X)\n",
    "X_scaled = scaler.transform(X)\n",
    "X_scaled_df = pd.DataFrame(X_scaled, columns = X.columns)\n",
    "\n",
    "kmeans = KMeans(n_clusters=300, random_state=1234)\n",
    "kmeans.fit(X_scaled_df)\n",
    "\n",
    "clusters = kmeans.predict(X_scaled_df)\n",
    "pd.Series(clusters).value_counts().sort_index()\n",
    "\n",
    "X[\"cluster\"] = clusters\n",
    "\n",
    "spotify_df = pd.concat([X, spotify_songs[\"id\"]], axis=1)\n",
    "\n",
    "sp = spotipy.Spotify(auth_manager=SpotifyClientCredentials(client_id= \"beba121b335d4a9d95e083d26c5ef644\",\n",
    "                                                           client_secret= \"ef6e57241a3d47a6b3ad1400c4ed610e\"))\n",
    "\n",
    "def hot_songs():\n",
    "    song_ = treating_typos_song()\n",
    "    artist_ = treating_typos_artist()\n",
    "    \n",
    "    if song_ in songs and artist_ in artists:\n",
    "        filter_song_out(song_, artist_)\n",
    "        x = list(song_random[\"Song\"])[0]\n",
    "        y = list(song_random[\"Artist\"])[0]  ## Alterar para pegar o index da música e pegar o artista desse index. Desse jeito está fazendo dois randoms diferentes\n",
    "        output_song1 = sp.search(q=y + x, limit=1)\n",
    "        track_id1=output_song1[\"tracks\"][\"items\"][0][\"id\"]\n",
    "        music1 = IFrame(src=\"https://open.spotify.com/embed/track/\"+track_id1,\n",
    "                      width=\"320\",\n",
    "                      height=\"80\",\n",
    "                     frameborder=\"0\",\n",
    "                      allowtransparency=\"true\",\n",
    "                      allow=\"encrypted-media\",\n",
    "                    )\n",
    "        print(\"Your song is in the top 100 and this is our recommendation for you:\")\n",
    "        display(music1)\n",
    "    else:\n",
    "        input_song = sp.search(q=artist_ + song_,limit=1)\n",
    "        track_id=input_song[\"tracks\"][\"items\"][0][\"id\"]\n",
    "        music = IFrame(src=\"https://open.spotify.com/embed/track/\"+track_id,\n",
    "                      width=\"320\",\n",
    "                      height=\"80\",\n",
    "                     frameborder=\"0\",\n",
    "                      allowtransparency=\"true\",\n",
    "                      allow=\"encrypted-media\",\n",
    "                    )\n",
    "        \n",
    "        \n",
    "        display(music)\n",
    "        confirmation = input(\"Is this the song you chose?(y/n) \")\n",
    "        print(confirmation)\n",
    "        if confirmation == \"n\":\n",
    "            print(\"Please, try again.\")\n",
    "        elif confirmation == \"y\":\n",
    "            song_df = pd.DataFrame(sp.audio_features(input_song[\"tracks\"][\"items\"][0][\"id\"]))\n",
    "            song_df=song_df[[\"danceability\",\"energy\",\"loudness\",\"speechiness\",\"acousticness\", \"instrumentalness\",\"liveness\",\"valence\",\"tempo\",\"id\",\"duration_ms\"]]\n",
    "            song_df2 = song_df.drop(columns = \"id\")\n",
    "            song_df2_scaled = scaler.transform(song_df2)\n",
    "            song_df2_scaled = pd.DataFrame(song_df2_scaled, columns = song_df2.columns)\n",
    "            cluster = int(kmeans.predict(song_df2_scaled))\n",
    "            similar_songs = list(np.where(spotify_df[\"cluster\"] == cluster)[0])\n",
    "            recommendation = random.choice(similar_songs)\n",
    "            id_recommendation = spotify_df.iloc[recommendation,11]\n",
    "            output_song = IFrame(src=\"https://open.spotify.com/embed/track/\"+id_recommendation,\n",
    "                             width=\"320\",\n",
    "                             height=\"80\",\n",
    "                             frameborder=\"0\",\n",
    "                             allowtransparency=\"true\",\n",
    "                             allow=\"encrypted-media\",\n",
    "                            )\n",
    "            print(\"This is our recommendation for you:\")\n",
    "            return output_song\n",
    "        else:\n",
    "            print(\"You should type y for yes or n for no. Please try again.\")\n",
    "\n"
   ]
  },
  {
   "cell_type": "code",
   "execution_count": 25,
   "id": "4642f4c9",
   "metadata": {},
   "outputs": [
    {
     "name": "stdout",
     "output_type": "stream",
     "text": [
      "Please, write the title of the song.help\n",
      "Please, write the name of the artist.the beatles\n"
     ]
    },
    {
     "data": {
      "text/html": [
       "\n",
       "        <iframe\n",
       "            width=\"320\"\n",
       "            height=\"80\"\n",
       "            src=\"https://open.spotify.com/embed/track/3Smida2eCUsLzDcmZqXEZ3?frameborder=0&allowtransparency=true&allow=encrypted-media\"\n",
       "            frameborder=\"0\"\n",
       "            allowfullscreen\n",
       "            \n",
       "        ></iframe>\n",
       "        "
      ],
      "text/plain": [
       "<IPython.lib.display.IFrame at 0x7fbda0d00880>"
      ]
     },
     "metadata": {},
     "output_type": "display_data"
    },
    {
     "name": "stdout",
     "output_type": "stream",
     "text": [
      "Is this the song you chose?(y/n) y\n",
      "y\n",
      "This is our recommendation for you:\n"
     ]
    },
    {
     "data": {
      "text/html": [
       "\n",
       "        <iframe\n",
       "            width=\"320\"\n",
       "            height=\"80\"\n",
       "            src=\"https://open.spotify.com/embed/track/0JHnYWw2dChdrApll2QtMn?frameborder=0&allowtransparency=true&allow=encrypted-media\"\n",
       "            frameborder=\"0\"\n",
       "            allowfullscreen\n",
       "            \n",
       "        ></iframe>\n",
       "        "
      ],
      "text/plain": [
       "<IPython.lib.display.IFrame at 0x7fbda0d11b20>"
      ]
     },
     "execution_count": 25,
     "metadata": {},
     "output_type": "execute_result"
    }
   ],
   "source": [
    "hot_songs()"
   ]
  },
  {
   "cell_type": "code",
   "execution_count": null,
   "id": "5489ee6e",
   "metadata": {},
   "outputs": [],
   "source": []
  }
 ],
 "metadata": {
  "kernelspec": {
   "display_name": "Python 3 (ipykernel)",
   "language": "python",
   "name": "python3"
  },
  "language_info": {
   "codemirror_mode": {
    "name": "ipython",
    "version": 3
   },
   "file_extension": ".py",
   "mimetype": "text/x-python",
   "name": "python",
   "nbconvert_exporter": "python",
   "pygments_lexer": "ipython3",
   "version": "3.9.13"
  }
 },
 "nbformat": 4,
 "nbformat_minor": 5
}
