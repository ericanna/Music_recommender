{
 "cells": [
  {
   "cell_type": "code",
   "execution_count": 1,
   "id": "cb9862d7",
   "metadata": {},
   "outputs": [],
   "source": [
    "import numpy as np\n",
    "import pandas as pd\n",
    "from fuzzywuzzy import fuzz\n",
    "from fuzzywuzzy import process"
   ]
  },
  {
   "cell_type": "code",
   "execution_count": 2,
   "id": "0bd4a189",
   "metadata": {},
   "outputs": [],
   "source": [
    "hot_100 = pd.read_csv(\"hot_100.csv\")"
   ]
  },
  {
   "cell_type": "code",
   "execution_count": 3,
   "id": "cb3c5460",
   "metadata": {},
   "outputs": [
    {
     "data": {
      "text/html": [
       "<div>\n",
       "<style scoped>\n",
       "    .dataframe tbody tr th:only-of-type {\n",
       "        vertical-align: middle;\n",
       "    }\n",
       "\n",
       "    .dataframe tbody tr th {\n",
       "        vertical-align: top;\n",
       "    }\n",
       "\n",
       "    .dataframe thead th {\n",
       "        text-align: right;\n",
       "    }\n",
       "</style>\n",
       "<table border=\"1\" class=\"dataframe\">\n",
       "  <thead>\n",
       "    <tr style=\"text-align: right;\">\n",
       "      <th></th>\n",
       "      <th>Song</th>\n",
       "      <th>Artist</th>\n",
       "    </tr>\n",
       "  </thead>\n",
       "  <tbody>\n",
       "    <tr>\n",
       "      <th>0</th>\n",
       "      <td>Flowers</td>\n",
       "      <td>Miley Cyrus</td>\n",
       "    </tr>\n",
       "    <tr>\n",
       "      <th>1</th>\n",
       "      <td>Kill Bill</td>\n",
       "      <td>SZA</td>\n",
       "    </tr>\n",
       "    <tr>\n",
       "      <th>2</th>\n",
       "      <td>Last Night</td>\n",
       "      <td>Morgan Wallen</td>\n",
       "    </tr>\n",
       "    <tr>\n",
       "      <th>3</th>\n",
       "      <td>Unholy</td>\n",
       "      <td>Sam Smith &amp; Kim Petras</td>\n",
       "    </tr>\n",
       "    <tr>\n",
       "      <th>4</th>\n",
       "      <td>Creepin'</td>\n",
       "      <td>Metro Boomin, The Weeknd &amp; 21 Savage</td>\n",
       "    </tr>\n",
       "    <tr>\n",
       "      <th>...</th>\n",
       "      <td>...</td>\n",
       "      <td>...</td>\n",
       "    </tr>\n",
       "    <tr>\n",
       "      <th>95</th>\n",
       "      <td>Yandel 150</td>\n",
       "      <td>Yandel &amp; Feid</td>\n",
       "    </tr>\n",
       "    <tr>\n",
       "      <th>96</th>\n",
       "      <td>Heart To Heart</td>\n",
       "      <td>Mac DeMarco</td>\n",
       "    </tr>\n",
       "    <tr>\n",
       "      <th>97</th>\n",
       "      <td>Next Thing You Know</td>\n",
       "      <td>Jordan Davis</td>\n",
       "    </tr>\n",
       "    <tr>\n",
       "      <th>98</th>\n",
       "      <td>Never Gonna Not Dance Again</td>\n",
       "      <td>P!nk</td>\n",
       "    </tr>\n",
       "    <tr>\n",
       "      <th>99</th>\n",
       "      <td>Open Arms</td>\n",
       "      <td>SZA Featuring Travis Scott</td>\n",
       "    </tr>\n",
       "  </tbody>\n",
       "</table>\n",
       "<p>100 rows × 2 columns</p>\n",
       "</div>"
      ],
      "text/plain": [
       "                           Song                                Artist\n",
       "0                       Flowers                           Miley Cyrus\n",
       "1                     Kill Bill                                   SZA\n",
       "2                    Last Night                         Morgan Wallen\n",
       "3                        Unholy                Sam Smith & Kim Petras\n",
       "4                      Creepin'  Metro Boomin, The Weeknd & 21 Savage\n",
       "..                          ...                                   ...\n",
       "95                   Yandel 150                         Yandel & Feid\n",
       "96               Heart To Heart                           Mac DeMarco\n",
       "97          Next Thing You Know                          Jordan Davis\n",
       "98  Never Gonna Not Dance Again                                  P!nk\n",
       "99                    Open Arms            SZA Featuring Travis Scott\n",
       "\n",
       "[100 rows x 2 columns]"
      ]
     },
     "execution_count": 3,
     "metadata": {},
     "output_type": "execute_result"
    }
   ],
   "source": [
    "hot_100.drop(columns = ['Unnamed: 0'], inplace = True)\n",
    "hot_100"
   ]
  },
  {
   "cell_type": "code",
   "execution_count": 48,
   "id": "dadcc8d7",
   "metadata": {},
   "outputs": [],
   "source": [
    "song_random = hot_100.sample()"
   ]
  },
  {
   "cell_type": "code",
   "execution_count": 49,
   "id": "24943a4f",
   "metadata": {},
   "outputs": [],
   "source": [
    "songs = []\n",
    "for i in hot_100['Song']:\n",
    "    songs.append(i)\n",
    "    \n",
    "artists = []\n",
    "for i in hot_100['Artist']:\n",
    "    artists.append(i)"
   ]
  },
  {
   "cell_type": "code",
   "execution_count": 50,
   "id": "419a195f",
   "metadata": {},
   "outputs": [],
   "source": [
    "def treating_typos_song():\n",
    "    song_input = input(\"Please, write the title of the song.\")\n",
    "    if process.extractOne(song_input, songs)[1] > 70:\n",
    "        song_ = process.extractOne(song_input, songs)[0]\n",
    "    else:\n",
    "        song_ = song_input\n",
    "    return song_"
   ]
  },
  {
   "cell_type": "code",
   "execution_count": 70,
   "id": "264d91c3",
   "metadata": {},
   "outputs": [],
   "source": [
    "def treating_typos_artist():\n",
    "    artist_input = input(\"Please, write the name of the artist.\")\n",
    "    if process.extractOne(artist_input, artists)[1] > 70:\n",
    "        artist_ = process.extractOne(artist_input, artists)[0]\n",
    "    else:\n",
    "        artist_ = artist_input\n",
    "    return artist_"
   ]
  },
  {
   "cell_type": "code",
   "execution_count": 77,
   "id": "31349ab4",
   "metadata": {},
   "outputs": [],
   "source": [
    "def hot_songs():\n",
    "    song_ = treating_typos_song()\n",
    "    artist_ = treating_typos_artist()\n",
    "    if song_ in songs and artist_ in artists:\n",
    "        x = list(song_random[\"Song\"])\n",
    "        y = list(song_random[\"Artist\"])\n",
    "        print(\"We recommend you the song \" + str(x) + \" by the artist \" + str(y) + \".\")\n",
    "    else:\n",
    "        print(\"This song is not on the hot list.\")"
   ]
  },
  {
   "cell_type": "code",
   "execution_count": 78,
   "id": "bca9dedc",
   "metadata": {},
   "outputs": [
    {
     "name": "stdout",
     "output_type": "stream",
     "text": [
      "Please, write the title of the song.Flowers\n",
      "Please, write the name of the artist.Miley Cyrus\n",
      "We recommend you the song ['Snooze'] by the artist ['SZA'].\n"
     ]
    }
   ],
   "source": [
    "hot_songs()"
   ]
  }
 ],
 "metadata": {
  "kernelspec": {
   "display_name": "Python 3 (ipykernel)",
   "language": "python",
   "name": "python3"
  },
  "language_info": {
   "codemirror_mode": {
    "name": "ipython",
    "version": 3
   },
   "file_extension": ".py",
   "mimetype": "text/x-python",
   "name": "python",
   "nbconvert_exporter": "python",
   "pygments_lexer": "ipython3",
   "version": "3.9.13"
  }
 },
 "nbformat": 4,
 "nbformat_minor": 5
}
